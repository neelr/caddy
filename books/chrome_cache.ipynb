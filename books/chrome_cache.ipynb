{
 "cells": [
  {
   "cell_type": "code",
   "execution_count": 7,
   "id": "66e6d79c",
   "metadata": {},
   "outputs": [
    {
     "name": "stdout",
     "output_type": "stream",
     "text": [
      "Collecting simplecache\n",
      "  Using cached SimpleCache-0.1.2-py3-none-any.whl\n",
      "Installing collected packages: simplecache\n",
      "  Attempting uninstall: simplecache\n",
      "    Found existing installation: SimpleCache 0.1.2\n",
      "    Uninstalling SimpleCache-0.1.2:\n",
      "      Successfully uninstalled SimpleCache-0.1.2\n",
      "Successfully installed simplecache-0.1.2\n",
      "\n",
      "\u001b[1m[\u001b[0m\u001b[34;49mnotice\u001b[0m\u001b[1;39;49m]\u001b[0m\u001b[39;49m A new release of pip available: \u001b[0m\u001b[31;49m22.3.1\u001b[0m\u001b[39;49m -> \u001b[0m\u001b[32;49m23.1.2\u001b[0m\n",
      "\u001b[1m[\u001b[0m\u001b[34;49mnotice\u001b[0m\u001b[1;39;49m]\u001b[0m\u001b[39;49m To update, run: \u001b[0m\u001b[32;49mpython3.10 -m pip install --upgrade pip\u001b[0m\n"
     ]
    }
   ],
   "source": [
    "!pip3 install --force-reinstall simplecache"
   ]
  },
  {
   "cell_type": "code",
   "execution_count": 20,
   "id": "51af1d99",
   "metadata": {},
   "outputs": [
    {
     "name": "stdout",
     "output_type": "stream",
     "text": [
      "Collecting browser-history\n",
      "  Downloading browser_history-0.3.2-py3-none-any.whl (21 kB)\n",
      "Installing collected packages: browser-history\n",
      "Successfully installed browser-history-0.3.2\n",
      "\n",
      "\u001b[1m[\u001b[0m\u001b[34;49mnotice\u001b[0m\u001b[1;39;49m]\u001b[0m\u001b[39;49m A new release of pip available: \u001b[0m\u001b[31;49m22.3.1\u001b[0m\u001b[39;49m -> \u001b[0m\u001b[32;49m23.1.2\u001b[0m\n",
      "\u001b[1m[\u001b[0m\u001b[34;49mnotice\u001b[0m\u001b[1;39;49m]\u001b[0m\u001b[39;49m To update, run: \u001b[0m\u001b[32;49mpython3.10 -m pip install --upgrade pip\u001b[0m\n"
     ]
    }
   ],
   "source": [
    "!pip3 install browser-history"
   ]
  },
  {
   "cell_type": "code",
   "execution_count": 2,
   "id": "b8103b6f",
   "metadata": {},
   "outputs": [
    {
     "ename": "OperationalError",
     "evalue": "database is locked",
     "output_type": "error",
     "traceback": [
      "\u001b[0;31m---------------------------------------------------------------------------\u001b[0m",
      "\u001b[0;31mOperationalError\u001b[0m                          Traceback (most recent call last)",
      "Input \u001b[0;32mIn [2]\u001b[0m, in \u001b[0;36m<cell line: 10>\u001b[0;34m()\u001b[0m\n\u001b[1;32m      7\u001b[0m cursor \u001b[38;5;241m=\u001b[39m conn\u001b[38;5;241m.\u001b[39mcursor()\n\u001b[1;32m      9\u001b[0m \u001b[38;5;66;03m# Execute a SELECT query\u001b[39;00m\n\u001b[0;32m---> 10\u001b[0m \u001b[43mcursor\u001b[49m\u001b[38;5;241;43m.\u001b[39;49m\u001b[43mexecute\u001b[49m\u001b[43m(\u001b[49m\u001b[38;5;124;43m\"\u001b[39;49m\u001b[38;5;124;43mSELECT url FROM urls\u001b[39;49m\u001b[38;5;124;43m\"\u001b[39;49m\u001b[43m)\u001b[49m\n\u001b[1;32m     12\u001b[0m \u001b[38;5;66;03m# Fetch all rows from the result set\u001b[39;00m\n\u001b[1;32m     13\u001b[0m rows \u001b[38;5;241m=\u001b[39m cursor\u001b[38;5;241m.\u001b[39mfetchall()\n",
      "\u001b[0;31mOperationalError\u001b[0m: database is locked"
     ]
    }
   ],
   "source": [
    "import sqlite3\n",
    "\n",
    "# Connect to the database\n",
    "conn = sqlite3.connect('/Users/neelredkar/Library/Application Support/Arc/User Data/Default/History')\n",
    "\n",
    "# Firefox\n",
    "#conn = sqlite3.connect('/Users/neelredkar/Library/Application Support/Firefox/Profiles/srddt044.default-nightly')\n",
    "\n",
    "\n",
    "# Create a cursor object to interact with the database\n",
    "cursor = conn.cursor()\n",
    "\n",
    "# Execute a SELECT query\n",
    "cursor.execute(\"SELECT url FROM urls\")\n",
    "\n",
    "#firefox\n",
    "#cursor.execute(\"SELECT url FROM moz_places\")\n",
    "\n",
    "# Fetch all rows from the result set\n",
    "rows = cursor.fetchall()\n",
    "\n",
    "# Process and print the url values\n",
    "for row in rows:\n",
    "    url = row[0]  # Assuming url is the first (0-indexed) column\n",
    "    print(url)\n",
    "\n",
    "# Close the cursor and the database connection\n",
    "cursor.close()\n",
    "conn.close()"
   ]
  },
  {
   "cell_type": "code",
   "execution_count": 5,
   "id": "695b5777",
   "metadata": {
    "scrolled": false
   },
   "outputs": [
    {
     "data": {
      "text/plain": [
       "51856"
      ]
     },
     "execution_count": 5,
     "metadata": {},
     "output_type": "execute_result"
    }
   ],
   "source": [
    "r = []\n",
    "for rx in rows:\n",
    "    r.append(rx[0])\n",
    "len(r)"
   ]
  },
  {
   "cell_type": "code",
   "execution_count": 6,
   "id": "d55006cd",
   "metadata": {},
   "outputs": [],
   "source": [
    "r = list(set(r))"
   ]
  },
  {
   "cell_type": "code",
   "execution_count": 7,
   "id": "7d5f4724",
   "metadata": {},
   "outputs": [
    {
     "name": "stdout",
     "output_type": "stream",
     "text": [
      "Requirement already satisfied: requests in /usr/local/anaconda3/envs/ml/lib/python3.9/site-packages (2.28.2)\n",
      "Requirement already satisfied: urllib3<1.27,>=1.21.1 in /usr/local/anaconda3/envs/ml/lib/python3.9/site-packages (from requests) (1.26.14)\n",
      "Requirement already satisfied: charset-normalizer<4,>=2 in /usr/local/anaconda3/envs/ml/lib/python3.9/site-packages (from requests) (3.0.1)\n",
      "Requirement already satisfied: idna<4,>=2.5 in /usr/local/anaconda3/envs/ml/lib/python3.9/site-packages (from requests) (3.4)\n",
      "Requirement already satisfied: certifi>=2017.4.17 in /usr/local/anaconda3/envs/ml/lib/python3.9/site-packages (from requests) (2022.12.7)\n",
      "Requirement already satisfied: beautifulsoup4 in /usr/local/anaconda3/envs/ml/lib/python3.9/site-packages (4.11.1)\n",
      "Requirement already satisfied: soupsieve>1.2 in /usr/local/anaconda3/envs/ml/lib/python3.9/site-packages (from beautifulsoup4) (2.3.2.post1)\n"
     ]
    }
   ],
   "source": [
    "!pip install requests\n",
    "!pip install beautifulsoup4"
   ]
  },
  {
   "cell_type": "code",
   "execution_count": 64,
   "id": "47f7ed72",
   "metadata": {},
   "outputs": [
    {
     "name": "stdout",
     "output_type": "stream",
     "text": [
      "Requirement already satisfied: sentence-transformers in /usr/local/lib/python3.10/site-packages (2.2.2)\n",
      "Requirement already satisfied: torch>=1.6.0 in /usr/local/lib/python3.10/site-packages (from sentence-transformers) (1.13.1)\n",
      "Requirement already satisfied: tqdm in /usr/local/lib/python3.10/site-packages (from sentence-transformers) (4.64.1)\n",
      "Requirement already satisfied: huggingface-hub>=0.4.0 in /usr/local/lib/python3.10/site-packages (from sentence-transformers) (0.8.1)\n",
      "Requirement already satisfied: nltk in /usr/local/lib/python3.10/site-packages (from sentence-transformers) (3.8.1)\n",
      "Requirement already satisfied: scikit-learn in /usr/local/lib/python3.10/site-packages (from sentence-transformers) (1.2.1)\n",
      "Requirement already satisfied: transformers<5.0.0,>=4.6.0 in /usr/local/lib/python3.10/site-packages (from sentence-transformers) (4.21.1)\n",
      "Requirement already satisfied: torchvision in /usr/local/lib/python3.10/site-packages (from sentence-transformers) (0.14.1)\n",
      "Requirement already satisfied: scipy in /usr/local/lib/python3.10/site-packages (from sentence-transformers) (1.10.0)\n",
      "Requirement already satisfied: sentencepiece in /usr/local/lib/python3.10/site-packages (from sentence-transformers) (0.1.97)\n",
      "Requirement already satisfied: numpy in /usr/local/lib/python3.10/site-packages (from sentence-transformers) (1.23.5)\n",
      "Requirement already satisfied: typing-extensions>=3.7.4.3 in /usr/local/lib/python3.10/site-packages (from huggingface-hub>=0.4.0->sentence-transformers) (4.4.0)\n",
      "Requirement already satisfied: pyyaml>=5.1 in /usr/local/lib/python3.10/site-packages (from huggingface-hub>=0.4.0->sentence-transformers) (6.0)\n",
      "Requirement already satisfied: filelock in /usr/local/lib/python3.10/site-packages (from huggingface-hub>=0.4.0->sentence-transformers) (3.8.0)\n",
      "Requirement already satisfied: requests in /usr/local/lib/python3.10/site-packages (from huggingface-hub>=0.4.0->sentence-transformers) (2.28.2)\n",
      "Requirement already satisfied: packaging>=20.9 in /usr/local/lib/python3.10/site-packages (from huggingface-hub>=0.4.0->sentence-transformers) (21.3)\n",
      "Requirement already satisfied: regex!=2019.12.17 in /usr/local/lib/python3.10/site-packages (from transformers<5.0.0,>=4.6.0->sentence-transformers) (2022.10.31)\n",
      "Requirement already satisfied: tokenizers!=0.11.3,<0.13,>=0.11.1 in /usr/local/lib/python3.10/site-packages (from transformers<5.0.0,>=4.6.0->sentence-transformers) (0.12.1)\n",
      "Requirement already satisfied: click in /usr/local/lib/python3.10/site-packages (from nltk->sentence-transformers) (8.1.3)\n",
      "Requirement already satisfied: joblib in /usr/local/lib/python3.10/site-packages (from nltk->sentence-transformers) (1.2.0)\n",
      "Requirement already satisfied: threadpoolctl>=2.0.0 in /usr/local/lib/python3.10/site-packages (from scikit-learn->sentence-transformers) (3.1.0)\n",
      "Requirement already satisfied: pillow!=8.3.*,>=5.3.0 in /usr/local/lib/python3.10/site-packages (from torchvision->sentence-transformers) (9.4.0)\n",
      "Requirement already satisfied: pyparsing!=3.0.5,>=2.0.2 in /usr/local/lib/python3.10/site-packages (from packaging>=20.9->huggingface-hub>=0.4.0->sentence-transformers) (3.0.9)\n",
      "Requirement already satisfied: charset-normalizer<4,>=2 in /usr/local/lib/python3.10/site-packages (from requests->huggingface-hub>=0.4.0->sentence-transformers) (3.0.1)\n",
      "Requirement already satisfied: certifi>=2017.4.17 in /usr/local/lib/python3.10/site-packages (from requests->huggingface-hub>=0.4.0->sentence-transformers) (2022.12.7)\n",
      "Requirement already satisfied: idna<4,>=2.5 in /usr/local/lib/python3.10/site-packages (from requests->huggingface-hub>=0.4.0->sentence-transformers) (3.4)\n",
      "Requirement already satisfied: urllib3<1.27,>=1.21.1 in /usr/local/lib/python3.10/site-packages (from requests->huggingface-hub>=0.4.0->sentence-transformers) (1.26.14)\n",
      "\n",
      "\u001b[1m[\u001b[0m\u001b[34;49mnotice\u001b[0m\u001b[1;39;49m]\u001b[0m\u001b[39;49m A new release of pip available: \u001b[0m\u001b[31;49m22.3.1\u001b[0m\u001b[39;49m -> \u001b[0m\u001b[32;49m23.1.2\u001b[0m\n",
      "\u001b[1m[\u001b[0m\u001b[34;49mnotice\u001b[0m\u001b[1;39;49m]\u001b[0m\u001b[39;49m To update, run: \u001b[0m\u001b[32;49mpython3.10 -m pip install --upgrade pip\u001b[0m\n",
      "Note: you may need to restart the kernel to use updated packages.\n"
     ]
    }
   ],
   "source": [
    "pip install -U sentence-transformers"
   ]
  },
  {
   "cell_type": "code",
   "execution_count": 69,
   "id": "6970ac9d",
   "metadata": {},
   "outputs": [
    {
     "name": "stdout",
     "output_type": "stream",
     "text": [
      "load INSTRUCTOR_Transformer\n",
      "max_seq_length  512\n",
      "[[ 2.31948141e-02 -8.66735540e-03  7.00959517e-03  4.78815213e-02\n",
      "  -3.86307365e-03 -2.59205941e-02 -2.77569480e-02  2.93532480e-02\n",
      "  -8.09818693e-03 -4.44264105e-03  3.39882523e-02 -4.82698791e-02\n",
      "   8.12148377e-02  5.74629866e-02  6.38221726e-02  3.97624634e-02\n",
      "   1.24425264e-02 -4.39865068e-02  3.40501629e-02  3.54648121e-02\n",
      "   9.39088222e-03 -1.26559734e-02 -7.89459869e-02  1.16065349e-02\n",
      "  -7.02152699e-02  5.24157174e-02  6.23118058e-02 -3.57067399e-02\n",
      "  -1.34703601e-02  2.94568129e-02  5.98049760e-02  4.70896717e-03\n",
      "  -2.96085849e-02  5.29866628e-02 -5.48548214e-02  1.13411518e-02\n",
      "  -3.09031196e-02 -2.41915770e-02 -5.23115275e-03  1.63608268e-02\n",
      "  -9.15948302e-03 -5.84356524e-02 -2.03627497e-02  5.66687807e-02\n",
      "  -5.42520583e-02 -3.88523489e-02 -2.20495146e-02  5.14146797e-02\n",
      "  -3.86007167e-02 -5.20070195e-02 -1.53566217e-02 -2.45385990e-02\n",
      "  -6.04756512e-02 -5.14644906e-02 -1.86385622e-03 -2.28044782e-02\n",
      "  -1.01163182e-02  1.68301780e-02  1.48470076e-02 -3.57792862e-02\n",
      "  -6.79763258e-02  1.55327655e-02 -4.50433604e-02  1.35171851e-02\n",
      "  -6.60120100e-02  9.31919273e-03 -6.91773295e-02 -4.35984544e-02\n",
      "  -3.78542393e-03 -1.01398239e-02  6.04342707e-02 -3.89439426e-02\n",
      "   6.68089790e-03 -2.98913438e-02 -2.99516413e-02 -6.17276207e-02\n",
      "  -1.92188788e-02  1.19316448e-02  6.57019466e-02 -2.81563792e-02\n",
      "   4.52945270e-02  2.84886956e-02 -1.12405550e-02  2.83506289e-02\n",
      "   1.78824048e-02 -2.02204250e-02 -5.16371354e-02  9.23963170e-03\n",
      "   1.47486683e-02  4.58424427e-02 -8.58602114e-03 -4.53407690e-02\n",
      "  -1.07815294e-02  1.20368190e-02 -4.08201627e-02  4.22345921e-02\n",
      "  -1.42135229e-02  1.94333624e-02 -1.12971431e-02 -2.46580318e-02\n",
      "  -1.10153025e-02  2.45823562e-02 -2.88257450e-02  1.90504431e-03\n",
      "   2.37846039e-02  9.71742847e-05 -7.90313631e-02 -3.24512273e-02\n",
      "   5.14787529e-03  2.48936284e-02 -2.91384608e-02 -3.43582220e-02\n",
      "  -1.31614236e-02  5.92337288e-02  2.22135652e-02 -5.63166104e-02\n",
      "  -1.83280297e-02  5.84514998e-03 -5.79480035e-03  7.83411600e-03\n",
      "   7.86030665e-04 -5.93080521e-02 -6.15173765e-02 -4.47341353e-02\n",
      "   5.19173853e-02  4.76947278e-02 -3.35791260e-02 -2.61872429e-02\n",
      "  -2.74603087e-02  6.16930500e-02 -1.28864534e-02  6.76538795e-02\n",
      "   4.66552563e-02 -2.23517474e-02  2.48998553e-02 -1.16315763e-02\n",
      "  -2.21103225e-02  2.80111562e-02 -6.33551553e-02  7.32908444e-03\n",
      "   5.05924225e-02  3.48444134e-02  3.18342708e-02 -2.87566446e-02\n",
      "  -4.59388196e-02  3.49907354e-02  4.31184843e-03 -6.58535883e-02\n",
      "   4.50976267e-02  1.77887958e-02  1.12979813e-02  1.11957295e-02\n",
      "   2.32289489e-02  6.46293610e-02 -3.14437202e-03 -3.34161185e-02\n",
      "  -5.15197106e-02 -1.30683742e-02 -8.72371122e-02  4.19311859e-02\n",
      "  -4.44892645e-02 -7.37557979e-03  3.59414145e-02  2.11516190e-02\n",
      "   6.25179615e-03  5.52294869e-03 -2.47514602e-02 -3.72161940e-02\n",
      "  -3.54334675e-02 -5.12856282e-02  1.37015060e-02 -3.37040946e-02\n",
      "   3.56898643e-02 -3.50261368e-02  1.31658996e-02 -2.79617161e-02\n",
      "   2.04519331e-02 -3.16795669e-02 -6.67318143e-03 -1.73938107e-02\n",
      "  -2.07924563e-02 -2.53611468e-02  1.28195528e-02  2.14141663e-02\n",
      "   5.08070085e-03  2.12881453e-02 -1.95238162e-02  6.34618998e-02\n",
      "   2.58298237e-02 -5.57791777e-02  1.09416526e-02  1.20987166e-02\n",
      "   3.95083949e-02  3.18770148e-02  3.33598210e-03  2.40541659e-02\n",
      "   1.77040435e-02 -2.00620387e-02 -3.63966152e-02  3.30422260e-02\n",
      "  -2.24664789e-02 -1.64668643e-04 -6.09645285e-02  2.67706886e-02\n",
      "   9.46355797e-03  2.51124427e-02  1.65249628e-03  2.94294450e-02\n",
      "  -2.42923684e-02 -2.29984932e-02  4.29206528e-02  3.15423682e-03\n",
      "   3.18548754e-02 -6.90791057e-04  4.42671180e-02 -2.45029423e-02\n",
      "   3.85948755e-02  9.18575004e-03  1.88339539e-02  2.26395018e-02\n",
      "  -4.20335494e-02  8.59420970e-02  1.60079496e-03 -3.32413204e-02\n",
      "  -2.95292009e-02 -2.40095034e-02 -5.93578629e-02 -5.48121668e-02\n",
      "  -4.79733292e-03  3.83347236e-02  1.37784379e-02  5.14394082e-02\n",
      "   4.73431647e-02 -7.25382688e-06 -1.73076503e-02 -4.03968953e-02\n",
      "  -3.34923603e-02 -7.37128896e-04 -1.56186137e-03 -2.19881777e-02\n",
      "   5.13981096e-02  1.84843130e-02  3.60183120e-02  3.05519234e-02\n",
      "   3.58068310e-02 -2.57554855e-02  3.20010260e-02  2.34667473e-02\n",
      "  -2.87145525e-02  3.76169011e-02 -1.90810468e-02 -2.00290419e-02\n",
      "   1.71502437e-02 -3.16793029e-03  6.12567924e-02 -3.61237228e-02\n",
      "   4.65987362e-02  4.87621129e-02  1.48553131e-02 -6.24793321e-02\n",
      "  -3.59018967e-02  9.55856405e-03  3.40218004e-03  2.11516190e-02\n",
      "   3.91803309e-02 -1.44308107e-02  4.95362543e-02  5.71389915e-03\n",
      "   2.62020957e-02 -2.42962167e-02  7.14017078e-02 -1.60298366e-02\n",
      "  -5.22438213e-02 -3.77968773e-02  6.43235818e-02  2.33638342e-02\n",
      "   2.44411943e-03  4.99326438e-02  3.05027608e-02 -1.91481169e-02\n",
      "  -1.03845336e-02  2.72592399e-02  1.44725125e-02 -4.08128165e-02\n",
      "  -7.59068877e-02 -1.25542171e-02  1.94155890e-03  3.04795541e-02\n",
      "  -1.76723618e-02 -1.29600957e-01 -1.43261496e-02 -5.20797223e-02\n",
      "   6.87462240e-02  4.93378602e-02 -1.71629072e-03  2.21034456e-02\n",
      "   2.48273369e-03  6.01966120e-02 -2.07264032e-02 -5.02034649e-02\n",
      "  -1.42617486e-02 -4.98502739e-02  2.69583762e-02  3.27845588e-02\n",
      "   3.76833677e-02  3.43107758e-03  9.58670117e-03  4.27403711e-02\n",
      "  -9.47848056e-03  5.99303516e-03 -2.19202265e-02 -1.76596250e-02\n",
      "  -1.17566613e-02 -8.20532963e-02  3.06429733e-02 -1.28189614e-02\n",
      "   3.07552479e-02 -2.47146729e-02 -5.42548194e-04  1.52456285e-02\n",
      "   7.59162474e-03  3.86729352e-02  1.12758093e-02 -3.84039432e-02\n",
      "  -3.30154458e-03 -3.10262423e-02 -1.81052939e-03 -7.06520602e-02\n",
      "  -4.12283316e-02  5.49206417e-03  4.44495976e-02 -3.30840573e-02\n",
      "  -2.29095779e-02  1.23473955e-02 -8.60696360e-02  9.90157132e-04\n",
      "   3.51703279e-02 -7.32075647e-02  4.83187363e-02  1.15580037e-02\n",
      "   2.17174855e-03 -4.36131880e-02 -2.44986471e-02  1.35264713e-02\n",
      "   2.42252485e-03 -2.01223288e-02 -3.21132429e-02 -3.19641605e-02\n",
      "  -2.09113099e-02  3.96999307e-02 -9.36897099e-02  5.01895584e-02\n",
      "   6.30418304e-03 -4.33508977e-02  2.14320200e-04  2.30907761e-02\n",
      "  -6.52079135e-02  4.59491201e-02 -6.93356693e-02 -8.44170339e-03\n",
      "   4.96822447e-02 -3.25631388e-02 -3.29783931e-02 -4.06386927e-02\n",
      "   5.69582637e-03  2.59067286e-02  2.98854373e-02  7.61009678e-02\n",
      "   3.71056534e-02 -5.46636656e-02  9.55815520e-03 -1.50186410e-02\n",
      "   8.72412231e-03  6.17362633e-02 -3.42653436e-03  6.54714480e-02\n",
      "  -2.19810172e-03  1.12690516e-02 -8.93428107e-04  5.06502986e-02\n",
      "  -1.58723500e-02 -1.92216858e-02 -2.23624031e-03  2.68772198e-03\n",
      "   6.09104112e-02 -3.23210023e-02 -1.75230240e-03  1.43849822e-02\n",
      "  -5.99302649e-02 -1.46042973e-01  2.61830240e-02 -1.63466688e-02\n",
      "  -4.06698175e-02  1.38045223e-02 -1.03882095e-02 -5.24332896e-02\n",
      "   8.63598753e-03 -1.77394822e-02 -7.25508481e-02  4.68117371e-02\n",
      "  -3.28683965e-02  4.39577810e-02 -6.34449869e-02  6.57765940e-02\n",
      "  -3.20586562e-02  1.34819495e-02  4.21070727e-03  4.95589226e-02\n",
      "   7.49019310e-02  1.53430300e-02  4.51037631e-04  2.45373813e-03\n",
      "  -2.43321853e-03 -2.88117658e-02  2.43595075e-02 -1.85067561e-02\n",
      "  -1.87830590e-02 -2.94029228e-02 -2.14231573e-02  1.25390161e-02\n",
      "   3.03098783e-02 -4.36333828e-02  6.49172366e-02  4.93770465e-03\n",
      "  -1.19072134e-02 -5.60219539e-03 -3.44310515e-03 -2.73142587e-02\n",
      "   6.87414408e-02 -3.54721174e-02  2.30156314e-02  7.06397416e-03\n",
      "  -7.04865083e-02 -8.13723542e-03  2.71574277e-02 -2.95129344e-02\n",
      "   3.32118943e-02 -1.05901202e-02  7.57901892e-02  2.40396280e-02\n",
      "  -5.27637415e-02 -6.40344620e-02  2.09824014e-02  5.51138483e-02\n",
      "   3.18486989e-02  4.13252413e-02  9.80525184e-03 -2.35563051e-02\n",
      "   3.47464271e-02 -7.37806931e-02 -8.42102170e-02 -5.15355589e-03\n",
      "  -2.84378859e-03 -1.22188097e-02  2.21350342e-02 -3.27474922e-02\n",
      "   1.52247734e-02  9.09366161e-02 -1.58990663e-03 -3.97006515e-03\n",
      "  -2.73730624e-02  2.78210957e-02 -6.16888329e-02 -5.97293256e-03\n",
      "   6.44002296e-03 -8.91970750e-03  4.31810692e-02 -4.72412035e-02\n",
      "   2.78695412e-02  2.43782736e-02 -2.97822002e-02  7.80524872e-03\n",
      "  -5.77327348e-02  7.25485459e-02 -3.44288796e-02  6.80608442e-03\n",
      "   1.59744211e-02  2.57801190e-02  2.37648860e-02 -1.77718643e-02\n",
      "  -3.04483809e-03  2.34844182e-02 -3.17601487e-02 -1.47271166e-02\n",
      "   2.35051531e-02  1.78267416e-02  3.36005315e-02 -3.55498604e-02\n",
      "  -4.68970463e-03 -5.14801443e-02 -1.26839150e-02 -5.54183498e-02\n",
      "  -6.73374087e-02 -5.99453086e-03 -3.53145637e-02 -4.46321405e-02\n",
      "   4.59272079e-02 -7.98507929e-02 -1.31828785e-02  2.51007713e-02\n",
      "  -6.57562837e-02 -4.28336393e-03 -4.37612161e-02  3.76768671e-02\n",
      "   2.19114646e-02 -2.62322314e-02  3.91625464e-02 -2.67761946e-02\n",
      "  -8.97480473e-02  3.57968099e-02  4.05104049e-02  3.25972065e-02\n",
      "   4.81741317e-02  1.96239799e-02  2.60273218e-02 -2.15191338e-02\n",
      "  -4.73788045e-02  1.30133098e-02  1.90932993e-02 -6.25017956e-02\n",
      "  -3.78625765e-02  2.31127422e-02 -1.90265588e-02  3.92034603e-03\n",
      "  -5.15986327e-03  3.07359882e-02 -8.39455724e-02 -2.44404830e-04\n",
      "   1.19928215e-02  3.47301587e-02 -7.79109299e-02 -3.98333697e-03\n",
      "  -6.95602410e-03 -1.44661544e-03  5.89815229e-02  3.18829529e-02\n",
      "   1.61949527e-02  1.28208129e-02 -2.46124621e-02  5.12215979e-02\n",
      "  -4.94531915e-02  1.36784865e-02  7.89827183e-02 -2.91231815e-02\n",
      "  -2.44291257e-02 -1.47529338e-02 -6.18464127e-02 -3.67434584e-02\n",
      "   2.90076565e-02  1.99992210e-02 -4.27996144e-02  1.64554063e-02\n",
      "  -2.50337049e-02  4.18047868e-02  1.60278641e-02 -6.31390512e-02\n",
      "   1.11488355e-02  4.14397754e-02 -8.95681325e-03 -1.79410800e-02\n",
      "   4.34033461e-02 -3.03504653e-02 -1.94475893e-02  2.28504837e-02\n",
      "  -5.05789407e-02 -4.14218269e-02 -2.48462474e-03  2.15491652e-02\n",
      "  -3.79089126e-03  2.58900747e-02 -3.03793363e-02 -6.35095760e-02\n",
      "  -2.81115919e-02 -2.78910529e-02 -4.73740250e-02 -1.50121329e-02\n",
      "   2.33795512e-02 -3.70581355e-03 -1.11487964e-02  1.69494692e-02\n",
      "  -1.06114829e-02  1.25537273e-02 -3.05796955e-02 -2.07865294e-02\n",
      "   7.43747747e-04 -7.14035630e-02 -2.36709360e-02  1.57249141e-02\n",
      "  -2.75352802e-02  4.16005440e-02  1.06861293e-02  2.63633784e-02\n",
      "  -5.23958029e-03  1.49581637e-02  5.06790057e-02 -2.13133842e-02\n",
      "   1.07667809e-02  2.75167953e-02 -8.83051474e-03 -2.15190533e-03\n",
      "   3.37128639e-02  2.41278056e-02 -9.97882569e-04 -2.01095417e-02\n",
      "  -7.03435577e-03  1.57542173e-02  6.13752892e-03  4.64524981e-03\n",
      "  -1.30344145e-02  2.53709666e-02  1.07020680e-02 -7.84363002e-02\n",
      "  -2.73016170e-02 -1.62273776e-04  8.39315727e-02 -4.76226471e-02\n",
      "  -1.56183913e-02  2.16737366e-03  1.89076383e-02 -4.51037437e-02\n",
      "   2.39909976e-03  1.03148511e-02 -4.54303734e-02 -2.07128003e-02\n",
      "   2.97443196e-02 -4.91942875e-02 -2.11939216e-03  4.98560676e-03\n",
      "  -3.16598751e-02 -2.67812666e-02 -6.85146265e-03 -2.11140793e-02\n",
      "   5.24009429e-02 -1.28227323e-02 -7.83972442e-03  8.41571018e-03\n",
      "   4.57128026e-02  6.04274906e-02  2.85483189e-02  6.37212992e-02\n",
      "   4.67532687e-02  9.45433136e-03 -4.30338122e-02 -2.85923481e-02\n",
      "  -1.06839975e-02 -1.05299157e-04 -6.97485358e-03  5.65355085e-03\n",
      "   1.82264093e-02  4.54420410e-03  1.33436760e-02  4.64422852e-02\n",
      "   5.59712872e-02  4.40653935e-02  5.05604744e-02 -3.99258286e-02\n",
      "  -4.76952642e-02 -7.05930814e-02 -4.19467762e-02  2.97470484e-02\n",
      "  -1.05344430e-02 -2.09311792e-03 -1.72477402e-02 -6.41351286e-03\n",
      "   1.95536520e-02  3.98800615e-03  5.56609174e-03  2.11005341e-02\n",
      "  -2.95654032e-02 -3.71779427e-02  8.31461884e-03 -1.02271046e-02\n",
      "  -1.47405956e-02  2.34612562e-02  7.90219195e-03 -3.41307116e-03\n",
      "  -7.14929327e-02  3.77462693e-02  2.79700905e-02  6.78908974e-02\n",
      "  -5.44396900e-02  5.09346947e-02  2.04156209e-02  1.95618882e-03\n",
      "  -1.42854154e-02 -1.34677188e-02  3.36519703e-02  4.96556871e-02\n",
      "  -1.01977084e-02 -4.04580906e-02  4.38758358e-02  1.04915015e-02\n",
      "   3.71310324e-03 -1.70905925e-02  5.36778988e-03 -4.65464173e-03\n",
      "  -3.56814303e-02  2.71874331e-02  2.12640334e-02 -1.95948184e-02\n",
      "   1.64010469e-03  3.40976417e-02 -2.14072727e-02 -2.25652624e-02\n",
      "   2.73183477e-03 -1.65633373e-02  5.02136052e-02  1.01226848e-02\n",
      "  -3.88840437e-02  5.51162362e-02  3.39097492e-02  2.95654237e-02\n",
      "   3.96294929e-02 -1.76508650e-02 -1.03744464e-02  3.39078624e-03\n",
      "   3.90530340e-02  1.53302643e-02 -2.68350616e-02 -7.09631816e-02\n",
      "   1.03216972e-02  2.61544101e-02  7.56089203e-03  3.63609344e-02\n",
      "   5.03582414e-03  3.83019261e-02  2.10583713e-02 -1.78163890e-02\n",
      "   2.96604179e-04 -2.34935991e-02  1.96371712e-02  1.09486911e-03\n",
      "  -4.86507453e-02  3.71587053e-02  3.81471985e-03 -2.60046893e-03\n",
      "  -6.13569655e-02 -3.23684402e-02 -5.52522652e-02  3.74971330e-02\n",
      "   8.48980993e-03 -5.16667962e-02 -1.38734784e-02 -3.27723473e-02\n",
      "   1.70859261e-04  3.13396305e-02 -4.35851477e-02 -4.56567556e-02\n",
      "   4.32927124e-02 -3.76763567e-03  4.33701687e-02  5.90703599e-02\n",
      "   5.74420430e-02  3.64097743e-03 -3.92213278e-02 -4.78789657e-02\n",
      "  -5.18204123e-02 -3.20147872e-02 -4.78135236e-02 -1.06741358e-02\n",
      "  -3.10879927e-02 -5.03960066e-02 -2.69424319e-02 -5.99518139e-03\n",
      "   1.96189880e-02 -6.98253047e-03 -2.39569750e-02  1.54998396e-02]]\n"
     ]
    }
   ],
   "source": [
    "from InstructorEmbedding import INSTRUCTOR\n",
    "model = INSTRUCTOR('hkunlp/instructor-base')\n",
    "sentence = \"3D ActionSLAM: wearable person tracking in multi-floor environments\"\n",
    "instruction = \"Represent the Science title:\"\n",
    "embeddings = model.encode([[instruction,sentence]])\n",
    "print(embeddings)"
   ]
  },
  {
   "cell_type": "code",
   "execution_count": 74,
   "id": "38816b76",
   "metadata": {},
   "outputs": [
    {
     "ename": "IndexError",
     "evalue": "index 1 is out of bounds for axis 0 with size 1",
     "output_type": "error",
     "traceback": [
      "\u001b[0;31m---------------------------------------------------------------------------\u001b[0m",
      "\u001b[0;31mIndexError\u001b[0m                                Traceback (most recent call last)",
      "Input \u001b[0;32mIn [74]\u001b[0m, in \u001b[0;36m<cell line: 1>\u001b[0;34m()\u001b[0m\n\u001b[0;32m----> 1\u001b[0m \u001b[43membeddings\u001b[49m\u001b[43m[\u001b[49m\u001b[38;5;241;43m1\u001b[39;49m\u001b[43m]\u001b[49m\n",
      "\u001b[0;31mIndexError\u001b[0m: index 1 is out of bounds for axis 0 with size 1"
     ]
    }
   ],
   "source": [
    "embeddings[1]"
   ]
  },
  {
   "cell_type": "code",
   "execution_count": 9,
   "id": "bf147826",
   "metadata": {},
   "outputs": [
    {
     "ename": "SystemExit",
     "evalue": "",
     "output_type": "error",
     "traceback": [
      "An exception has occurred, use %tb to see the full traceback.\n",
      "\u001b[0;31mSystemExit\u001b[0m\n"
     ]
    },
    {
     "name": "stderr",
     "output_type": "stream",
     "text": [
      "/usr/local/lib/python3.10/site-packages/IPython/core/interactiveshell.py:3406: UserWarning: To exit: use 'exit', 'quit', or Ctrl-D.\n",
      "  warn(\"To exit: use 'exit', 'quit', or Ctrl-D.\", stacklevel=1)\n"
     ]
    }
   ],
   "source": [
    "import sys\n",
    "sys.exit()"
   ]
  },
  {
   "cell_type": "code",
   "execution_count": 16,
   "id": "e80c787c",
   "metadata": {},
   "outputs": [],
   "source": [
    "import pickle\n",
    "\n",
    "\n",
    "fileObj = open('f.obj', 'wb')\n",
    "pickle.dump(r,fileObj)\n",
    "fileObj.close()"
   ]
  },
  {
   "cell_type": "code",
   "execution_count": 51,
   "id": "2d418467",
   "metadata": {},
   "outputs": [],
   "source": [
    "arx = []\n",
    "for i in r:\n",
    "    if \"arxiv\" in i and \"pdf\" not in i:\n",
    "        arx.append(i)"
   ]
  },
  {
   "cell_type": "code",
   "execution_count": 52,
   "id": "0b4bae84",
   "metadata": {},
   "outputs": [],
   "source": [
    "instruction = \"Represent the query for semantic similarity:\""
   ]
  },
  {
   "cell_type": "code",
   "execution_count": 75,
   "id": "1274e45e",
   "metadata": {},
   "outputs": [
    {
     "name": "stderr",
     "output_type": "stream",
     "text": [
      "100%|████████████████████████████████████████████████████████████████████████████████████████████████████████████████████████████████████████████████████████████████████████████████████████████| 100/100 [02:30<00:00,  1.51s/it]\n"
     ]
    }
   ],
   "source": [
    "import requests\n",
    "from tqdm import tqdm\n",
    "from bs4 import BeautifulSoup\n",
    "textr = []\n",
    "\n",
    "for url in tqdm(arx):\n",
    "    try:\n",
    "        if \"youtube\" in url:\n",
    "            pass\n",
    "        response = requests.get(url)\n",
    "\n",
    "        # Parse the HTML content using BeautifulSoup\n",
    "        soup = BeautifulSoup(response.content, 'html.parser')\n",
    "        x = str(soup.getText())\n",
    "        s = model.encode([[instruction, x]])\n",
    "        textr.append({\"vecs\":s.tolist(), \"url\":url, \"text\":x, \"title\":soup.find('title').getText()})\n",
    "    except:\n",
    "        pass"
   ]
  },
  {
   "cell_type": "code",
   "execution_count": 59,
   "id": "3509b63b",
   "metadata": {},
   "outputs": [],
   "source": [
    "import pinecone\n",
    "import sqlite3\n",
    "PINECONE_KEY = \"xxx\"\n",
    "\n",
    "pinecone.init(api_key=PINECONE_KEY,\n",
    "              environment=\"asia-southeast1-gcp-free\")\n",
    "index = pinecone.Index(\"imessage\")"
   ]
  },
  {
   "cell_type": "code",
   "execution_count": 68,
   "id": "e2cdc14e",
   "metadata": {},
   "outputs": [
    {
     "data": {
      "text/plain": [
       "768"
      ]
     },
     "execution_count": 68,
     "metadata": {},
     "output_type": "execute_result"
    }
   ],
   "source": [
    "len(textr[4][\"vecs\"][1])"
   ]
  },
  {
   "cell_type": "code",
   "execution_count": 56,
   "id": "d23770e3",
   "metadata": {},
   "outputs": [],
   "source": [
    "import hashlib"
   ]
  },
  {
   "cell_type": "code",
   "execution_count": 76,
   "id": "73b1b77e",
   "metadata": {},
   "outputs": [
    {
     "name": "stderr",
     "output_type": "stream",
     "text": [
      "  1%|█▉                                                                                                                                                                                            | 1/100 [00:01<01:44,  1.05s/it]"
     ]
    },
    {
     "name": "stdout",
     "output_type": "stream",
     "text": [
      "{'upserted_count': 1}\n"
     ]
    },
    {
     "name": "stderr",
     "output_type": "stream",
     "text": [
      "\r",
      "  2%|███▊                                                                                                                                                                                          | 2/100 [00:02<01:42,  1.05s/it]"
     ]
    },
    {
     "name": "stdout",
     "output_type": "stream",
     "text": [
      "{'upserted_count': 1}\n"
     ]
    },
    {
     "name": "stderr",
     "output_type": "stream",
     "text": [
      "\r",
      "  3%|█████▋                                                                                                                                                                                        | 3/100 [00:02<01:04,  1.49it/s]"
     ]
    },
    {
     "name": "stdout",
     "output_type": "stream",
     "text": [
      "{'upserted_count': 1}\n"
     ]
    },
    {
     "name": "stderr",
     "output_type": "stream",
     "text": [
      "  5%|█████████▌                                                                                                                                                                                    | 5/100 [00:02<00:38,  2.44it/s]"
     ]
    },
    {
     "name": "stdout",
     "output_type": "stream",
     "text": [
      "{'upserted_count': 1}\n",
      "{'upserted_count': 1}\n"
     ]
    },
    {
     "name": "stderr",
     "output_type": "stream",
     "text": [
      "  7%|█████████████▎                                                                                                                                                                                | 7/100 [00:03<00:28,  3.30it/s]"
     ]
    },
    {
     "name": "stdout",
     "output_type": "stream",
     "text": [
      "{'upserted_count': 1}\n",
      "{'upserted_count': 1}\n"
     ]
    },
    {
     "name": "stderr",
     "output_type": "stream",
     "text": [
      "\r",
      "  8%|███████████████▏                                                                                                                                                                              | 8/100 [00:03<00:28,  3.21it/s]"
     ]
    },
    {
     "name": "stdout",
     "output_type": "stream",
     "text": [
      "{'upserted_count': 1}\n"
     ]
    },
    {
     "name": "stderr",
     "output_type": "stream",
     "text": [
      "\r",
      "  9%|█████████████████                                                                                                                                                                             | 9/100 [00:03<00:25,  3.57it/s]"
     ]
    },
    {
     "name": "stdout",
     "output_type": "stream",
     "text": [
      "{'upserted_count': 1}\n"
     ]
    },
    {
     "name": "stderr",
     "output_type": "stream",
     "text": [
      "\r",
      " 10%|██████████████████▉                                                                                                                                                                          | 10/100 [00:04<00:26,  3.44it/s]"
     ]
    },
    {
     "name": "stdout",
     "output_type": "stream",
     "text": [
      "{'upserted_count': 1}\n"
     ]
    },
    {
     "name": "stderr",
     "output_type": "stream",
     "text": [
      "\r",
      " 11%|████████████████████▊                                                                                                                                                                        | 11/100 [00:04<00:24,  3.59it/s]"
     ]
    },
    {
     "name": "stdout",
     "output_type": "stream",
     "text": [
      "{'upserted_count': 1}\n"
     ]
    },
    {
     "name": "stderr",
     "output_type": "stream",
     "text": [
      "\r",
      " 12%|██████████████████████▋                                                                                                                                                                      | 12/100 [00:04<00:24,  3.60it/s]"
     ]
    },
    {
     "name": "stdout",
     "output_type": "stream",
     "text": [
      "{'upserted_count': 1}\n"
     ]
    },
    {
     "name": "stderr",
     "output_type": "stream",
     "text": [
      "\r",
      " 13%|████████████████████████▌                                                                                                                                                                    | 13/100 [00:04<00:22,  3.89it/s]"
     ]
    },
    {
     "name": "stdout",
     "output_type": "stream",
     "text": [
      "{'upserted_count': 1}\n"
     ]
    },
    {
     "name": "stderr",
     "output_type": "stream",
     "text": [
      " 15%|████████████████████████████▎                                                                                                                                                                | 15/100 [00:05<00:21,  4.01it/s]"
     ]
    },
    {
     "name": "stdout",
     "output_type": "stream",
     "text": [
      "{'upserted_count': 1}\n",
      "{'upserted_count': 1}\n"
     ]
    },
    {
     "name": "stderr",
     "output_type": "stream",
     "text": [
      "\r",
      " 16%|██████████████████████████████▏                                                                                                                                                              | 16/100 [00:05<00:23,  3.63it/s]"
     ]
    },
    {
     "name": "stdout",
     "output_type": "stream",
     "text": [
      "{'upserted_count': 1}\n"
     ]
    },
    {
     "name": "stderr",
     "output_type": "stream",
     "text": [
      "\r",
      " 17%|████████████████████████████████▏                                                                                                                                                            | 17/100 [00:05<00:21,  3.93it/s]"
     ]
    },
    {
     "name": "stdout",
     "output_type": "stream",
     "text": [
      "{'upserted_count': 1}\n"
     ]
    },
    {
     "name": "stderr",
     "output_type": "stream",
     "text": [
      "\r",
      " 18%|██████████████████████████████████                                                                                                                                                           | 18/100 [00:06<00:22,  3.66it/s]"
     ]
    },
    {
     "name": "stdout",
     "output_type": "stream",
     "text": [
      "{'upserted_count': 1}\n",
      "{'upserted_count': 1}\n"
     ]
    },
    {
     "name": "stderr",
     "output_type": "stream",
     "text": [
      " 21%|███████████████████████████████████████▋                                                                                                                                                     | 21/100 [00:06<00:19,  4.06it/s]"
     ]
    },
    {
     "name": "stdout",
     "output_type": "stream",
     "text": [
      "{'upserted_count': 1}\n",
      "{'upserted_count': 1}\n"
     ]
    },
    {
     "name": "stderr",
     "output_type": "stream",
     "text": [
      " 23%|███████████████████████████████████████████▍                                                                                                                                                 | 23/100 [00:07<00:19,  3.97it/s]"
     ]
    },
    {
     "name": "stdout",
     "output_type": "stream",
     "text": [
      "{'upserted_count': 1}\n",
      "{'upserted_count': 1}\n"
     ]
    },
    {
     "name": "stderr",
     "output_type": "stream",
     "text": [
      "\r",
      " 24%|█████████████████████████████████████████████▎                                                                                                                                               | 24/100 [00:07<00:20,  3.65it/s]"
     ]
    },
    {
     "name": "stdout",
     "output_type": "stream",
     "text": [
      "{'upserted_count': 1}\n"
     ]
    },
    {
     "name": "stderr",
     "output_type": "stream",
     "text": [
      "\r",
      " 25%|███████████████████████████████████████████████▎                                                                                                                                             | 25/100 [00:08<00:19,  3.90it/s]"
     ]
    },
    {
     "name": "stdout",
     "output_type": "stream",
     "text": [
      "{'upserted_count': 1}\n"
     ]
    },
    {
     "name": "stderr",
     "output_type": "stream",
     "text": [
      "\r",
      " 26%|█████████████████████████████████████████████████▏                                                                                                                                           | 26/100 [00:08<00:17,  4.13it/s]"
     ]
    },
    {
     "name": "stdout",
     "output_type": "stream",
     "text": [
      "{'upserted_count': 1}\n"
     ]
    },
    {
     "name": "stderr",
     "output_type": "stream",
     "text": [
      "\r",
      " 27%|███████████████████████████████████████████████████                                                                                                                                          | 27/100 [00:08<00:17,  4.27it/s]"
     ]
    },
    {
     "name": "stdout",
     "output_type": "stream",
     "text": [
      "{'upserted_count': 1}\n"
     ]
    },
    {
     "name": "stderr",
     "output_type": "stream",
     "text": [
      "\r",
      " 28%|████████████████████████████████████████████████████▉                                                                                                                                        | 28/100 [00:08<00:17,  4.10it/s]"
     ]
    },
    {
     "name": "stdout",
     "output_type": "stream",
     "text": [
      "{'upserted_count': 1}\n"
     ]
    },
    {
     "name": "stderr",
     "output_type": "stream",
     "text": [
      " 30%|████████████████████████████████████████████████████████▋                                                                                                                                    | 30/100 [00:09<00:15,  4.55it/s]"
     ]
    },
    {
     "name": "stdout",
     "output_type": "stream",
     "text": [
      "{'upserted_count': 1}\n",
      "{'upserted_count': 1}\n"
     ]
    },
    {
     "name": "stderr",
     "output_type": "stream",
     "text": [
      "\r",
      " 31%|██████████████████████████████████████████████████████████▌                                                                                                                                  | 31/100 [00:09<00:15,  4.33it/s]"
     ]
    },
    {
     "name": "stdout",
     "output_type": "stream",
     "text": [
      "{'upserted_count': 1}\n",
      "{'upserted_count': 1}\n"
     ]
    },
    {
     "name": "stderr",
     "output_type": "stream",
     "text": [
      " 33%|██████████████████████████████████████████████████████████████▎                                                                                                                              | 33/100 [00:09<00:16,  3.95it/s]"
     ]
    },
    {
     "name": "stdout",
     "output_type": "stream",
     "text": [
      "{'upserted_count': 1}\n"
     ]
    },
    {
     "name": "stderr",
     "output_type": "stream",
     "text": [
      "\r",
      " 34%|████████████████████████████████████████████████████████████████▎                                                                                                                            | 34/100 [00:10<00:15,  4.13it/s]"
     ]
    },
    {
     "name": "stdout",
     "output_type": "stream",
     "text": [
      "{'upserted_count': 1}\n"
     ]
    },
    {
     "name": "stderr",
     "output_type": "stream",
     "text": [
      " 36%|████████████████████████████████████████████████████████████████████                                                                                                                         | 36/100 [00:10<00:15,  4.23it/s]"
     ]
    },
    {
     "name": "stdout",
     "output_type": "stream",
     "text": [
      "{'upserted_count': 1}\n",
      "{'upserted_count': 1}\n"
     ]
    },
    {
     "name": "stderr",
     "output_type": "stream",
     "text": [
      "\r",
      " 37%|█████████████████████████████████████████████████████████████████████▉                                                                                                                       | 37/100 [00:10<00:14,  4.38it/s]"
     ]
    },
    {
     "name": "stdout",
     "output_type": "stream",
     "text": [
      "{'upserted_count': 1}\n"
     ]
    },
    {
     "name": "stderr",
     "output_type": "stream",
     "text": [
      " 39%|█████████████████████████████████████████████████████████████████████████▋                                                                                                                   | 39/100 [00:11<00:12,  4.70it/s]"
     ]
    },
    {
     "name": "stdout",
     "output_type": "stream",
     "text": [
      "{'upserted_count': 1}\n",
      "{'upserted_count': 1}\n"
     ]
    },
    {
     "name": "stderr",
     "output_type": "stream",
     "text": [
      "\r",
      " 40%|███████████████████████████████████████████████████████████████████████████▌                                                                                                                 | 40/100 [00:11<00:13,  4.42it/s]"
     ]
    },
    {
     "name": "stdout",
     "output_type": "stream",
     "text": [
      "{'upserted_count': 1}\n"
     ]
    },
    {
     "name": "stderr",
     "output_type": "stream",
     "text": [
      "\r",
      " 41%|█████████████████████████████████████████████████████████████████████████████▍                                                                                                               | 41/100 [00:11<00:13,  4.48it/s]"
     ]
    },
    {
     "name": "stdout",
     "output_type": "stream",
     "text": [
      "{'upserted_count': 1}\n"
     ]
    },
    {
     "name": "stderr",
     "output_type": "stream",
     "text": [
      " 43%|█████████████████████████████████████████████████████████████████████████████████▎                                                                                                           | 43/100 [00:12<00:13,  4.36it/s]"
     ]
    },
    {
     "name": "stdout",
     "output_type": "stream",
     "text": [
      "{'upserted_count': 1}\n",
      "{'upserted_count': 1}\n"
     ]
    },
    {
     "name": "stderr",
     "output_type": "stream",
     "text": [
      " 45%|█████████████████████████████████████████████████████████████████████████████████████                                                                                                        | 45/100 [00:12<00:13,  4.15it/s]"
     ]
    },
    {
     "name": "stdout",
     "output_type": "stream",
     "text": [
      "{'upserted_count': 1}\n",
      "{'upserted_count': 1}\n"
     ]
    },
    {
     "name": "stderr",
     "output_type": "stream",
     "text": [
      " 47%|████████████████████████████████████████████████████████████████████████████████████████▊                                                                                                    | 47/100 [00:13<00:11,  4.62it/s]"
     ]
    },
    {
     "name": "stdout",
     "output_type": "stream",
     "text": [
      "{'upserted_count': 1}\n",
      "{'upserted_count': 1}\n"
     ]
    },
    {
     "name": "stderr",
     "output_type": "stream",
     "text": [
      "\r",
      " 48%|██████████████████████████████████████████████████████████████████████████████████████████▋                                                                                                  | 48/100 [00:13<00:10,  4.73it/s]"
     ]
    },
    {
     "name": "stdout",
     "output_type": "stream",
     "text": [
      "{'upserted_count': 1}\n"
     ]
    },
    {
     "name": "stderr",
     "output_type": "stream",
     "text": [
      "\r",
      " 49%|████████████████████████████████████████████████████████████████████████████████████████████▌                                                                                                | 49/100 [00:13<00:11,  4.37it/s]"
     ]
    },
    {
     "name": "stdout",
     "output_type": "stream",
     "text": [
      "{'upserted_count': 1}\n",
      "{'upserted_count': 1}\n"
     ]
    },
    {
     "name": "stderr",
     "output_type": "stream",
     "text": [
      " 51%|████████████████████████████████████████████████████████████████████████████████████████████████▍                                                                                            | 51/100 [00:13<00:10,  4.49it/s]"
     ]
    },
    {
     "name": "stdout",
     "output_type": "stream",
     "text": [
      "{'upserted_count': 1}\n"
     ]
    },
    {
     "name": "stderr",
     "output_type": "stream",
     "text": [
      "\r",
      " 52%|██████████████████████████████████████████████████████████████████████████████████████████████████▎                                                                                          | 52/100 [00:14<00:11,  4.17it/s]"
     ]
    },
    {
     "name": "stdout",
     "output_type": "stream",
     "text": [
      "{'upserted_count': 1}\n"
     ]
    },
    {
     "name": "stderr",
     "output_type": "stream",
     "text": [
      " 54%|██████████████████████████████████████████████████████████████████████████████████████████████████████                                                                                       | 54/100 [00:14<00:10,  4.48it/s]"
     ]
    },
    {
     "name": "stdout",
     "output_type": "stream",
     "text": [
      "{'upserted_count': 1}\n",
      "{'upserted_count': 1}\n"
     ]
    },
    {
     "name": "stderr",
     "output_type": "stream",
     "text": [
      "\r",
      " 55%|███████████████████████████████████████████████████████████████████████████████████████████████████████▉                                                                                     | 55/100 [00:14<00:09,  4.61it/s]"
     ]
    },
    {
     "name": "stdout",
     "output_type": "stream",
     "text": [
      "{'upserted_count': 1}\n"
     ]
    },
    {
     "name": "stderr",
     "output_type": "stream",
     "text": [
      " 57%|███████████████████████████████████████████████████████████████████████████████████████████████████████████▋                                                                                 | 57/100 [00:15<00:09,  4.52it/s]"
     ]
    },
    {
     "name": "stdout",
     "output_type": "stream",
     "text": [
      "{'upserted_count': 1}\n",
      "{'upserted_count': 1}\n"
     ]
    },
    {
     "name": "stderr",
     "output_type": "stream",
     "text": [
      "\r",
      " 58%|█████████████████████████████████████████████████████████████████████████████████████████████████████████████▌                                                                               | 58/100 [00:15<00:09,  4.51it/s]"
     ]
    },
    {
     "name": "stdout",
     "output_type": "stream",
     "text": [
      "{'upserted_count': 1}\n"
     ]
    },
    {
     "name": "stderr",
     "output_type": "stream",
     "text": [
      "\r",
      " 59%|███████████████████████████████████████████████████████████████████████████████████████████████████████████████▌                                                                             | 59/100 [00:15<00:09,  4.21it/s]"
     ]
    },
    {
     "name": "stdout",
     "output_type": "stream",
     "text": [
      "{'upserted_count': 1}\n"
     ]
    },
    {
     "name": "stderr",
     "output_type": "stream",
     "text": [
      "\r",
      " 60%|█████████████████████████████████████████████████████████████████████████████████████████████████████████████████▍                                                                           | 60/100 [00:16<00:13,  3.04it/s]"
     ]
    },
    {
     "name": "stdout",
     "output_type": "stream",
     "text": [
      "{'upserted_count': 1}\n"
     ]
    },
    {
     "name": "stderr",
     "output_type": "stream",
     "text": [
      "\r",
      " 61%|███████████████████████████████████████████████████████████████████████████████████████████████████████████████████▎                                                                         | 61/100 [00:16<00:15,  2.57it/s]"
     ]
    },
    {
     "name": "stdout",
     "output_type": "stream",
     "text": [
      "{'upserted_count': 1}\n"
     ]
    },
    {
     "name": "stderr",
     "output_type": "stream",
     "text": [
      "\r",
      " 62%|█████████████████████████████████████████████████████████████████████████████████████████████████████████████████████▏                                                                       | 62/100 [00:17<00:14,  2.70it/s]"
     ]
    },
    {
     "name": "stdout",
     "output_type": "stream",
     "text": [
      "{'upserted_count': 1}\n"
     ]
    },
    {
     "name": "stderr",
     "output_type": "stream",
     "text": [
      " 64%|████████████████████████████████████████████████████████████████████████████████████████████████████████████████████████▉                                                                    | 64/100 [00:17<00:10,  3.57it/s]"
     ]
    },
    {
     "name": "stdout",
     "output_type": "stream",
     "text": [
      "{'upserted_count': 1}\n",
      "{'upserted_count': 1}\n"
     ]
    },
    {
     "name": "stderr",
     "output_type": "stream",
     "text": [
      " 66%|████████████████████████████████████████████████████████████████████████████████████████████████████████████████████████████▋                                                                | 66/100 [00:18<00:07,  4.27it/s]"
     ]
    },
    {
     "name": "stdout",
     "output_type": "stream",
     "text": [
      "{'upserted_count': 1}\n",
      "{'upserted_count': 1}\n"
     ]
    },
    {
     "name": "stderr",
     "output_type": "stream",
     "text": [
      " 68%|████████████████████████████████████████████████████████████████████████████████████████████████████████████████████████████████▌                                                            | 68/100 [00:18<00:07,  4.31it/s]"
     ]
    },
    {
     "name": "stdout",
     "output_type": "stream",
     "text": [
      "{'upserted_count': 1}\n",
      "{'upserted_count': 1}\n"
     ]
    },
    {
     "name": "stderr",
     "output_type": "stream",
     "text": [
      "\r",
      " 69%|██████████████████████████████████████████████████████████████████████████████████████████████████████████████████████████████████▍                                                          | 69/100 [00:18<00:08,  3.84it/s]"
     ]
    },
    {
     "name": "stdout",
     "output_type": "stream",
     "text": [
      "{'upserted_count': 1}\n"
     ]
    },
    {
     "name": "stderr",
     "output_type": "stream",
     "text": [
      "\r",
      " 70%|████████████████████████████████████████████████████████████████████████████████████████████████████████████████████████████████████▎                                                        | 70/100 [00:19<00:07,  4.08it/s]"
     ]
    },
    {
     "name": "stdout",
     "output_type": "stream",
     "text": [
      "{'upserted_count': 1}\n"
     ]
    },
    {
     "name": "stderr",
     "output_type": "stream",
     "text": [
      " 72%|████████████████████████████████████████████████████████████████████████████████████████████████████████████████████████████████████████                                                     | 72/100 [00:19<00:06,  4.12it/s]"
     ]
    },
    {
     "name": "stdout",
     "output_type": "stream",
     "text": [
      "{'upserted_count': 1}\n",
      "{'upserted_count': 1}\n"
     ]
    },
    {
     "name": "stderr",
     "output_type": "stream",
     "text": [
      " 74%|███████████████████████████████████████████████████████████████████████████████████████████████████████████████████████████████████████████▊                                                 | 74/100 [00:19<00:05,  4.59it/s]"
     ]
    },
    {
     "name": "stdout",
     "output_type": "stream",
     "text": [
      "{'upserted_count': 1}\n",
      "{'upserted_count': 1}\n"
     ]
    },
    {
     "name": "stderr",
     "output_type": "stream",
     "text": [
      "\r",
      " 75%|█████████████████████████████████████████████████████████████████████████████████████████████████████████████████████████████████████████████▊                                               | 75/100 [00:20<00:05,  4.79it/s]"
     ]
    },
    {
     "name": "stdout",
     "output_type": "stream",
     "text": [
      "{'upserted_count': 1}\n"
     ]
    },
    {
     "name": "stderr",
     "output_type": "stream",
     "text": [
      " 77%|█████████████████████████████████████████████████████████████████████████████████████████████████████████████████████████████████████████████████▌                                           | 77/100 [00:20<00:05,  4.59it/s]"
     ]
    },
    {
     "name": "stdout",
     "output_type": "stream",
     "text": [
      "{'upserted_count': 1}\n",
      "{'upserted_count': 1}\n"
     ]
    },
    {
     "name": "stderr",
     "output_type": "stream",
     "text": [
      " 79%|█████████████████████████████████████████████████████████████████████████████████████████████████████████████████████████████████████████████████████▎                                       | 79/100 [00:20<00:04,  4.76it/s]"
     ]
    },
    {
     "name": "stdout",
     "output_type": "stream",
     "text": [
      "{'upserted_count': 1}\n",
      "{'upserted_count': 1}\n"
     ]
    },
    {
     "name": "stderr",
     "output_type": "stream",
     "text": [
      "\r",
      " 80%|███████████████████████████████████████████████████████████████████████████████████████████████████████████████████████████████████████████████████████▏                                     | 80/100 [00:21<00:04,  4.91it/s]"
     ]
    },
    {
     "name": "stdout",
     "output_type": "stream",
     "text": [
      "{'upserted_count': 1}\n"
     ]
    },
    {
     "name": "stderr",
     "output_type": "stream",
     "text": [
      " 82%|██████████████████████████████████████████████████████████████████████████████████████████████████████████████████████████████████████████████████████████▉                                  | 82/100 [00:21<00:03,  4.74it/s]"
     ]
    },
    {
     "name": "stdout",
     "output_type": "stream",
     "text": [
      "{'upserted_count': 1}\n",
      "{'upserted_count': 1}\n"
     ]
    },
    {
     "name": "stderr",
     "output_type": "stream",
     "text": [
      "\r",
      " 83%|████████████████████████████████████████████████████████████████████████████████████████████████████████████████████████████████████████████████████████████▊                                | 83/100 [00:21<00:03,  4.76it/s]"
     ]
    },
    {
     "name": "stdout",
     "output_type": "stream",
     "text": [
      "{'upserted_count': 1}\n"
     ]
    },
    {
     "name": "stderr",
     "output_type": "stream",
     "text": [
      "\r",
      " 84%|██████████████████████████████████████████████████████████████████████████████████████████████████████████████████████████████████████████████████████████████▊                              | 84/100 [00:22<00:03,  4.72it/s]"
     ]
    },
    {
     "name": "stdout",
     "output_type": "stream",
     "text": [
      "{'upserted_count': 1}\n"
     ]
    },
    {
     "name": "stderr",
     "output_type": "stream",
     "text": [
      "\r",
      " 85%|████████████████████████████████████████████████████████████████████████████████████████████████████████████████████████████████████████████████████████████████▋                            | 85/100 [00:22<00:03,  4.72it/s]"
     ]
    },
    {
     "name": "stdout",
     "output_type": "stream",
     "text": [
      "{'upserted_count': 1}\n"
     ]
    },
    {
     "name": "stderr",
     "output_type": "stream",
     "text": [
      " 87%|████████████████████████████████████████████████████████████████████████████████████████████████████████████████████████████████████████████████████████████████████▍                        | 87/100 [00:22<00:02,  4.75it/s]"
     ]
    },
    {
     "name": "stdout",
     "output_type": "stream",
     "text": [
      "{'upserted_count': 1}\n",
      "{'upserted_count': 1}\n"
     ]
    },
    {
     "name": "stderr",
     "output_type": "stream",
     "text": [
      "\r",
      " 88%|██████████████████████████████████████████████████████████████████████████████████████████████████████████████████████████████████████████████████████████████████████▎                      | 88/100 [00:22<00:02,  4.86it/s]"
     ]
    },
    {
     "name": "stdout",
     "output_type": "stream",
     "text": [
      "{'upserted_count': 1}\n",
      "{'upserted_count': 1}\n"
     ]
    },
    {
     "name": "stderr",
     "output_type": "stream",
     "text": [
      " 90%|██████████████████████████████████████████████████████████████████████████████████████████████████████████████████████████████████████████████████████████████████████████                   | 90/100 [00:23<00:02,  4.93it/s]"
     ]
    },
    {
     "name": "stdout",
     "output_type": "stream",
     "text": [
      "{'upserted_count': 1}\n"
     ]
    },
    {
     "name": "stderr",
     "output_type": "stream",
     "text": [
      " 92%|█████████████████████████████████████████████████████████████████████████████████████████████████████████████████████████████████████████████████████████████████████████████▉               | 92/100 [00:23<00:01,  4.81it/s]"
     ]
    },
    {
     "name": "stdout",
     "output_type": "stream",
     "text": [
      "{'upserted_count': 1}\n",
      "{'upserted_count': 1}\n"
     ]
    },
    {
     "name": "stderr",
     "output_type": "stream",
     "text": [
      "\r",
      " 93%|███████████████████████████████████████████████████████████████████████████████████████████████████████████████████████████████████████████████████████████████████████████████▊             | 93/100 [00:23<00:01,  4.81it/s]"
     ]
    },
    {
     "name": "stdout",
     "output_type": "stream",
     "text": [
      "{'upserted_count': 1}\n",
      "{'upserted_count': 1}\n"
     ]
    },
    {
     "name": "stderr",
     "output_type": "stream",
     "text": [
      " 95%|███████████████████████████████████████████████████████████████████████████████████████████████████████████████████████████████████████████████████████████████████████████████████▌         | 95/100 [00:24<00:01,  4.83it/s]"
     ]
    },
    {
     "name": "stdout",
     "output_type": "stream",
     "text": [
      "{'upserted_count': 1}\n"
     ]
    },
    {
     "name": "stderr",
     "output_type": "stream",
     "text": [
      "\r",
      " 96%|█████████████████████████████████████████████████████████████████████████████████████████████████████████████████████████████████████████████████████████████████████████████████████▍       | 96/100 [00:24<00:00,  4.62it/s]"
     ]
    },
    {
     "name": "stdout",
     "output_type": "stream",
     "text": [
      "{'upserted_count': 1}\n"
     ]
    },
    {
     "name": "stderr",
     "output_type": "stream",
     "text": [
      "\r",
      " 97%|███████████████████████████████████████████████████████████████████████████████████████████████████████████████████████████████████████████████████████████████████████████████████████▎     | 97/100 [00:24<00:00,  4.44it/s]"
     ]
    },
    {
     "name": "stdout",
     "output_type": "stream",
     "text": [
      "{'upserted_count': 1}\n"
     ]
    },
    {
     "name": "stderr",
     "output_type": "stream",
     "text": [
      " 99%|███████████████████████████████████████████████████████████████████████████████████████████████████████████████████████████████████████████████████████████████████████████████████████████  | 99/100 [00:25<00:00,  4.18it/s]"
     ]
    },
    {
     "name": "stdout",
     "output_type": "stream",
     "text": [
      "{'upserted_count': 1}\n",
      "{'upserted_count': 1}\n"
     ]
    },
    {
     "name": "stderr",
     "output_type": "stream",
     "text": [
      "100%|████████████████████████████████████████████████████████████████████████████████████████████████████████████████████████████████████████████████████████████████████████████████████████████| 100/100 [00:25<00:00,  3.89it/s]"
     ]
    },
    {
     "name": "stdout",
     "output_type": "stream",
     "text": [
      "{'upserted_count': 1}\n"
     ]
    },
    {
     "name": "stderr",
     "output_type": "stream",
     "text": [
      "\n"
     ]
    }
   ],
   "source": [
    "from tqdm import tqdm\n",
    "\n",
    "for i in tqdm(textr):\n",
    "    upsert_response = index.upsert(\n",
    "        vectors=[\n",
    "            (\n",
    "             str(hashlib.sha256(f\"{i['url']}\".encode()).hexdigest()),\n",
    "             i[\"vecs\"][0],\n",
    "             {\"url\": i[\"url\"], \"text\":i[\"text\"][0:1000], \"title\": i[\"title\"]}  \n",
    "            )\n",
    "        ],\n",
    "        namespace=\"uno\"\n",
    "    )\n",
    "    print(upsert_response)"
   ]
  },
  {
   "cell_type": "code",
   "execution_count": null,
   "id": "3c6eecc0",
   "metadata": {},
   "outputs": [],
   "source": [
    "index.query(\n",
    "  vector=model.encode(\"\").tolist(),\n",
    "  top_k=1,\n",
    "    include_metadata=True,\n",
    "    namespace=\"uno\"\n",
    ")"
   ]
  },
  {
   "cell_type": "code",
   "execution_count": 33,
   "id": "892606e3",
   "metadata": {},
   "outputs": [
    {
     "data": {
      "text/plain": [
       "\"\\n\\n\\n\\n[2208.06124] Gradient Estimation for Binary Latent Variables via Gradient Variance Clipping\\n\\n\\n\\n\\n\\n\\n\\n\\n\\n\\n\\n\\n\\n\\n\\n\\n\\n\\n\\n\\n\\n\\n\\n\\n\\n\\n\\n\\n\\n\\n\\n\\n\\n\\n\\n\\n\\n\\n\\n\\n\\n\\n\\n\\n\\n\\n\\n\\n\\n\\n\\nSkip to main content\\n\\n\\n\\n\\n\\nWe are hiring\\n\\nWe gratefully acknowledge support fromthe Simons Foundation and member institutions.\\n\\n\\n\\n\\n\\n > cs > arXiv:2208.06124\\n  \\n\\n\\n\\n\\n\\nHelp | Advanced Search\\n\\n\\n\\n\\nAll fields\\nTitle\\nAuthor\\nAbstract\\nComments\\nJournal reference\\nACM classification\\nMSC classification\\nReport number\\narXiv identifier\\nDOI\\nORCID\\narXiv author ID\\nHelp pages\\nFull text\\n\\n\\n\\n\\nSearch\\n\\n\\n\\n\\n\\n\\n\\n\\n\\n\\n\\n\\n\\n\\n\\nopen search\\n\\n\\n\\n\\n\\n\\nGO\\n\\n\\n\\nopen navigation menu\\n\\n\\nquick links\\n\\nLogin\\nHelp Pages\\nAbout\\n\\n\\n\\n\\n\\n\\n\\n\\n\\n\\n\\n\\n\\nComputer Science > Machine Learning\\n\\n\\narXiv:2208.06124 (cs)\\n    \\n\\n\\n\\n\\n  \\n  \\n  \\n    \\n  \\n  \\n    \\n    \\n  \\n\\n  [Submitted on 12 Aug 2022]\\nTitle:Gradient Estimation for Binary Latent Variables via Gradient Variance Clipping\\nAuthors:Russell Z. Kunes, Mingzhang Yin, Max Land, Doron Haviv, Dana Pe'er, Simon Tavaré\\nDownload a PDF of the paper titled Gradient Estimation for Binary Latent Variables via Gradient Variance Clipping, by Russell Z. Kunes and 5 other authors\\nDownload PDF\\n\\nAbstract:  Gradient estimation is often necessary for fitting generative models with\\ndiscrete latent variables, in contexts such as reinforcement learning and\\nvariational autoencoder (VAE) training. The DisARM estimator (Yin et al. 2020;\\nDong, Mnih, and Tucker 2020) achieves state of the art gradient variance for\\nBernoulli latent variable models in many contexts. However, DisARM and other\\nestimators have potentially exploding variance near the boundary of the\\nparameter space, where solutions tend to lie. To ameliorate this issue, we\\npropose a new gradient estimator \\\\textit{bitflip}-1 that has lower variance at\\nthe boundaries of the parameter space. As bitflip-1 has complementary\\nproperties to existing estimators, we introduce an aggregated estimator,\\n\\\\textit{unbiased gradient variance clipping} (UGC) that uses either a bitflip-1\\nor a DisARM gradient update for each coordinate. We theoretically prove that\\nUGC has uniformly lower variance than DisARM. Empirically, we observe that UGC\\nachieves the optimal value of the optimization objectives in toy experiments,\\ndiscrete VAE training, and in a best subset selection problem.\\n\\n    \\n\\n\\n\\nSubjects:\\n\\nMachine Learning (cs.LG); Machine Learning (stat.ML)\\n\\nCite as:\\narXiv:2208.06124 [cs.LG]\\n\\n\\n\\xa0\\n(or \\narXiv:2208.06124v1 [cs.LG] for this version)\\n          \\n\\n\\n\\xa0\\n\\nhttps://doi.org/10.48550/arXiv.2208.06124\\n\\n\\n\\nFocus to learn more\\n\\n\\n\\n\\n                arXiv-issued DOI via DataCite\\n              \\n\\n\\n\\n\\n\\n\\n\\nSubmission history From: Russell Kunes [view email]\\n      \\n[v1]\\n    \\n        Fri, 12 Aug 2022 05:37:52 UTC (35,464 KB)\\n\\n\\n\\n\\n\\n\\nFull-text links:\\nDownload:\\n\\n\\n      Download a PDF of the paper titled Gradient Estimation for Binary Latent Variables via Gradient Variance Clipping, by Russell Z. Kunes and 5 other authors\\nPDF\\nOther formats\\n\\n\\n\\n\\n    Current browse context: cs.LG\\n\\n\\n<\\xa0prev\\n\\n\\xa0 | \\xa0\\n\\nnext\\xa0>\\n\\n\\nnew\\n | \\nrecent\\n | \\n2208\\n\\n    Change to browse by:\\n    \\ncs\\nstat\\nstat.ML\\n\\n\\n\\n\\nReferences & Citations\\n\\nNASA ADSGoogle Scholar\\nSemantic Scholar\\n\\n\\n\\n\\na\\nexport BibTeX citation\\nLoading...\\n\\n\\n\\n\\nBibTeX formatted citation\\n×\\n\\n\\nloading...\\n\\n\\nData provided by: \\n\\n\\n\\n\\n\\nBookmark\\n\\n\\n\\n\\n\\n\\n\\n\\n\\n\\n\\nBibliographic Tools\\n\\nBibliographic and Citation Tools\\n\\n\\n\\n\\n\\n\\nBibliographic Explorer Toggle\\n\\n\\n\\nBibliographic Explorer (What is the Explorer?)\\n\\n\\n\\n\\n\\n\\n\\nLitmaps Toggle\\n\\n\\n\\nLitmaps (What is Litmaps?)\\n\\n\\n\\n\\n\\n\\n\\nscite.ai Toggle\\n\\n\\n\\nscite Smart Citations (What are Smart Citations?)\\n\\n\\n\\n\\n\\n\\n\\n\\nCode, Data, Media\\n\\nCode, Data and Media Associated with this Article\\n\\n\\n\\n\\n\\n\\nDagsHub Toggle\\n\\n\\n\\nDagsHub (What is DagsHub?)\\n\\n\\n\\n\\n\\n\\n\\nLinks to Code Toggle\\n\\n\\n\\nPapers with Code (What is Papers with Code?)\\n\\n\\n\\n\\n\\n\\n\\nScienceCast Toggle\\n\\n\\n\\nScienceCast (What is ScienceCast?)\\n\\n\\n\\n\\n\\n\\n\\n\\n\\nDemos\\n\\nDemos\\n\\n\\n\\n\\n\\n\\nReplicate Toggle\\n\\n\\n\\nReplicate (What is Replicate?)\\n\\n\\n\\n\\n\\n\\n\\nSpaces Toggle\\n\\n\\n\\nHugging Face Spaces (What is Spaces?)\\n\\n\\n\\n\\n\\n\\n\\nRelated Papers\\n\\nRecommenders and Search Tools\\n\\n\\n\\n\\n\\n\\nLink to Influence Flower\\n\\n\\n\\nInfluence Flower (What are Influence Flowers?)\\n\\n\\n\\n\\n\\n\\n\\nConnected Papers Toggle\\n\\n\\n\\nConnected Papers (What is Connected Papers?)\\n\\n\\n\\n\\n\\n\\n\\nCore recommender toggle\\n\\n\\n\\nCORE Recommender (What is CORE?)\\n\\n\\n\\n\\n\\n\\n\\nIArxiv recommender toggle\\n\\n\\n\\nIArxiv Recommender\\n(What is IArxiv?)\\n\\n\\n\\n\\n\\n\\nAuthor\\nVenue\\nInstitution\\nTopic\\n\\n\\n\\n\\n\\n\\n\\n\\n\\n\\n\\n\\n\\n\\n        About arXivLabs\\n      \\n\\n\\n\\narXivLabs: experimental projects with community collaborators\\narXivLabs is a framework that allows collaborators to develop and share new arXiv features directly on our website.\\nBoth individuals and organizations that work with arXivLabs have embraced and accepted our values of openness, community, excellence, and user data privacy. arXiv is committed to these values and only works with partners that adhere to them.\\nHave an idea for a project that will add value for arXiv's community? Learn more about arXivLabs.\\n\\n\\n\\n\\n\\n\\n\\n\\n\\n\\nWhich authors of this paper are endorsers? |\\n    Disable MathJax (What is MathJax?)\\n    \\n\\n\\n\\n\\n\\n\\n\\n\\n\\n\\n\\n\\nAbout\\nHelp\\n\\n\\n\\n\\n\\ncontact arXivClick here to contact arXiv\\n Contact\\n\\n\\nsubscribe to arXiv mailingsClick here to subscribe\\n Subscribe\\n\\n\\n\\n\\n\\n\\n\\n\\n\\n\\n\\nCopyright\\nPrivacy Policy\\n\\n\\n\\n\\nWeb Accessibility Assistance\\n\\n\\narXiv Operational Status \\n                    Get status notifications via\\n                    email\\n                    or slack\\n\\n\\n\\n\\n\\n \\n\\n\\n\\n\\n\\n\\n\""
      ]
     },
     "execution_count": 33,
     "metadata": {},
     "output_type": "execute_result"
    }
   ],
   "source": [
    "textr[0][\"text\"]"
   ]
  }
 ],
 "metadata": {
  "kernelspec": {
   "display_name": "Python 3 (ipykernel)",
   "language": "python",
   "name": "python3"
  },
  "language_info": {
   "codemirror_mode": {
    "name": "ipython",
    "version": 3
   },
   "file_extension": ".py",
   "mimetype": "text/x-python",
   "name": "python",
   "nbconvert_exporter": "python",
   "pygments_lexer": "ipython3",
   "version": "3.10.9"
  }
 },
 "nbformat": 4,
 "nbformat_minor": 5
}
